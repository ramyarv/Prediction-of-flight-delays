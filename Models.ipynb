{
 "cells": [
  {
   "cell_type": "markdown",
   "metadata": {},
   "source": [
    "### Models with weather data of Origin and destination merged\n"
   ]
  },
  {
   "cell_type": "code",
   "execution_count": 1,
   "metadata": {},
   "outputs": [],
   "source": [
    "import pandas as pd\n",
    "import os\n",
    "import numpy as np\n",
    "\n",
    "import matplotlib.pyplot as plt\n",
    "%matplotlib inline\n",
    "\n",
    "from sklearn.preprocessing import LabelEncoder,Imputer\n",
    "from sklearn.metrics import confusion_matrix,f1_score,accuracy_score,classification_report,roc_curve\n",
    "from sklearn.tree import DecisionTreeClassifier\n",
    "from sklearn.model_selection import train_test_split,GridSearchCV, StratifiedKFold,RandomizedSearchCV\n",
    "\n",
    "import warnings\n",
    "warnings.filterwarnings('ignore')"
   ]
  },
  {
   "cell_type": "code",
   "execution_count": 2,
   "metadata": {},
   "outputs": [],
   "source": [
    "## Reading input data (train/test) from preprocessed csv files.\n",
    "inputData = pd.read_csv(\"train_model_input_std.csv\",header=0,na_values=[\"NA\",\" \"],index_col=\"FlightNumber\")\n",
    "testData = pd.read_csv(\"test_model_input_std.csv\",header=0,na_values=[\"NA\",\" \"],index_col=\"FlightNumber\")"
   ]
  },
  {
   "cell_type": "code",
   "execution_count": 3,
   "metadata": {},
   "outputs": [
    {
     "data": {
      "text/plain": [
       "(7861, 41)"
      ]
     },
     "execution_count": 3,
     "metadata": {},
     "output_type": "execute_result"
    }
   ],
   "source": [
    "inputData.shape"
   ]
  },
  {
   "cell_type": "code",
   "execution_count": 4,
   "metadata": {},
   "outputs": [
    {
     "data": {
      "text/html": [
       "<div>\n",
       "<style scoped>\n",
       "    .dataframe tbody tr th:only-of-type {\n",
       "        vertical-align: middle;\n",
       "    }\n",
       "\n",
       "    .dataframe tbody tr th {\n",
       "        vertical-align: top;\n",
       "    }\n",
       "\n",
       "    .dataframe thead th {\n",
       "        text-align: right;\n",
       "    }\n",
       "</style>\n",
       "<table border=\"1\" class=\"dataframe\">\n",
       "  <thead>\n",
       "    <tr style=\"text-align: right;\">\n",
       "      <th></th>\n",
       "      <th>Month</th>\n",
       "      <th>DayofMonth</th>\n",
       "      <th>DayOfWeek</th>\n",
       "      <th>ScheduledDepTime</th>\n",
       "      <th>ScheduledArrTime</th>\n",
       "      <th>ScheduledTravelTime</th>\n",
       "      <th>Origin</th>\n",
       "      <th>Destination</th>\n",
       "      <th>Distance</th>\n",
       "      <th>flightDelayStatus</th>\n",
       "      <th>...</th>\n",
       "      <th>Longitude_y</th>\n",
       "      <th>TimeZone_y</th>\n",
       "      <th>Visibility_y</th>\n",
       "      <th>DBT_y</th>\n",
       "      <th>DewPointTemp_y</th>\n",
       "      <th>RelativeHumidityPercent_y</th>\n",
       "      <th>WindDirection_y</th>\n",
       "      <th>WindGustValue_y</th>\n",
       "      <th>StationPressure_y</th>\n",
       "      <th>HourlyPrecip_y</th>\n",
       "    </tr>\n",
       "    <tr>\n",
       "      <th>FlightNumber</th>\n",
       "      <th></th>\n",
       "      <th></th>\n",
       "      <th></th>\n",
       "      <th></th>\n",
       "      <th></th>\n",
       "      <th></th>\n",
       "      <th></th>\n",
       "      <th></th>\n",
       "      <th></th>\n",
       "      <th></th>\n",
       "      <th></th>\n",
       "      <th></th>\n",
       "      <th></th>\n",
       "      <th></th>\n",
       "      <th></th>\n",
       "      <th></th>\n",
       "      <th></th>\n",
       "      <th></th>\n",
       "      <th></th>\n",
       "      <th></th>\n",
       "      <th></th>\n",
       "    </tr>\n",
       "  </thead>\n",
       "  <tbody>\n",
       "    <tr>\n",
       "      <th>BOS_CLE_29089</th>\n",
       "      <td>4</td>\n",
       "      <td>19</td>\n",
       "      <td>0</td>\n",
       "      <td>0.495268</td>\n",
       "      <td>0.344018</td>\n",
       "      <td>0.105788</td>\n",
       "      <td>27</td>\n",
       "      <td>43</td>\n",
       "      <td>0.100961</td>\n",
       "      <td>0</td>\n",
       "      <td>...</td>\n",
       "      <td>0.826856</td>\n",
       "      <td>0.166667</td>\n",
       "      <td>1.000000</td>\n",
       "      <td>0.677837</td>\n",
       "      <td>0.661236</td>\n",
       "      <td>0.591659</td>\n",
       "      <td>0.302083</td>\n",
       "      <td>0.000000</td>\n",
       "      <td>0.806957</td>\n",
       "      <td>0.000000</td>\n",
       "    </tr>\n",
       "    <tr>\n",
       "      <th>CLE_ATL_44346</th>\n",
       "      <td>5</td>\n",
       "      <td>18</td>\n",
       "      <td>4</td>\n",
       "      <td>0.772871</td>\n",
       "      <td>0.618775</td>\n",
       "      <td>0.105788</td>\n",
       "      <td>45</td>\n",
       "      <td>13</td>\n",
       "      <td>0.099121</td>\n",
       "      <td>1</td>\n",
       "      <td>...</td>\n",
       "      <td>0.798732</td>\n",
       "      <td>0.166667</td>\n",
       "      <td>0.657766</td>\n",
       "      <td>0.666224</td>\n",
       "      <td>0.727235</td>\n",
       "      <td>0.773144</td>\n",
       "      <td>0.373843</td>\n",
       "      <td>0.000000</td>\n",
       "      <td>0.750379</td>\n",
       "      <td>0.013817</td>\n",
       "    </tr>\n",
       "    <tr>\n",
       "      <th>SNA_LAS_44378</th>\n",
       "      <td>2</td>\n",
       "      <td>3</td>\n",
       "      <td>1</td>\n",
       "      <td>1.000000</td>\n",
       "      <td>0.772181</td>\n",
       "      <td>0.001996</td>\n",
       "      <td>205</td>\n",
       "      <td>115</td>\n",
       "      <td>0.032087</td>\n",
       "      <td>0</td>\n",
       "      <td>...</td>\n",
       "      <td>0.483330</td>\n",
       "      <td>0.666667</td>\n",
       "      <td>1.000000</td>\n",
       "      <td>0.897810</td>\n",
       "      <td>0.474937</td>\n",
       "      <td>0.026123</td>\n",
       "      <td>0.496528</td>\n",
       "      <td>0.119512</td>\n",
       "      <td>0.546440</td>\n",
       "      <td>0.000000</td>\n",
       "    </tr>\n",
       "    <tr>\n",
       "      <th>CLT_TPA_51502</th>\n",
       "      <td>3</td>\n",
       "      <td>5</td>\n",
       "      <td>1</td>\n",
       "      <td>0.747634</td>\n",
       "      <td>0.560962</td>\n",
       "      <td>0.063872</td>\n",
       "      <td>47</td>\n",
       "      <td>207</td>\n",
       "      <td>0.089720</td>\n",
       "      <td>0</td>\n",
       "      <td>...</td>\n",
       "      <td>0.818572</td>\n",
       "      <td>0.166667</td>\n",
       "      <td>0.943324</td>\n",
       "      <td>0.867950</td>\n",
       "      <td>0.951963</td>\n",
       "      <td>0.707608</td>\n",
       "      <td>0.413194</td>\n",
       "      <td>0.022339</td>\n",
       "      <td>0.887834</td>\n",
       "      <td>0.000000</td>\n",
       "    </tr>\n",
       "    <tr>\n",
       "      <th>MSP_ORD_44884</th>\n",
       "      <td>4</td>\n",
       "      <td>22</td>\n",
       "      <td>3</td>\n",
       "      <td>0.388013</td>\n",
       "      <td>0.224957</td>\n",
       "      <td>0.029940</td>\n",
       "      <td>153</td>\n",
       "      <td>155</td>\n",
       "      <td>0.054159</td>\n",
       "      <td>0</td>\n",
       "      <td>...</td>\n",
       "      <td>0.765085</td>\n",
       "      <td>0.333333</td>\n",
       "      <td>0.917166</td>\n",
       "      <td>0.769409</td>\n",
       "      <td>0.741855</td>\n",
       "      <td>0.521998</td>\n",
       "      <td>0.478009</td>\n",
       "      <td>0.059198</td>\n",
       "      <td>0.798916</td>\n",
       "      <td>0.000000</td>\n",
       "    </tr>\n",
       "  </tbody>\n",
       "</table>\n",
       "<p>5 rows × 41 columns</p>\n",
       "</div>"
      ],
      "text/plain": [
       "               Month  DayofMonth  DayOfWeek  ScheduledDepTime  \\\n",
       "FlightNumber                                                    \n",
       "BOS_CLE_29089      4          19          0          0.495268   \n",
       "CLE_ATL_44346      5          18          4          0.772871   \n",
       "SNA_LAS_44378      2           3          1          1.000000   \n",
       "CLT_TPA_51502      3           5          1          0.747634   \n",
       "MSP_ORD_44884      4          22          3          0.388013   \n",
       "\n",
       "               ScheduledArrTime  ScheduledTravelTime  Origin  Destination  \\\n",
       "FlightNumber                                                                \n",
       "BOS_CLE_29089          0.344018             0.105788      27           43   \n",
       "CLE_ATL_44346          0.618775             0.105788      45           13   \n",
       "SNA_LAS_44378          0.772181             0.001996     205          115   \n",
       "CLT_TPA_51502          0.560962             0.063872      47          207   \n",
       "MSP_ORD_44884          0.224957             0.029940     153          155   \n",
       "\n",
       "               Distance  flightDelayStatus       ...        Longitude_y  \\\n",
       "FlightNumber                                     ...                      \n",
       "BOS_CLE_29089  0.100961                  0       ...           0.826856   \n",
       "CLE_ATL_44346  0.099121                  1       ...           0.798732   \n",
       "SNA_LAS_44378  0.032087                  0       ...           0.483330   \n",
       "CLT_TPA_51502  0.089720                  0       ...           0.818572   \n",
       "MSP_ORD_44884  0.054159                  0       ...           0.765085   \n",
       "\n",
       "               TimeZone_y  Visibility_y     DBT_y  DewPointTemp_y  \\\n",
       "FlightNumber                                                        \n",
       "BOS_CLE_29089    0.166667      1.000000  0.677837        0.661236   \n",
       "CLE_ATL_44346    0.166667      0.657766  0.666224        0.727235   \n",
       "SNA_LAS_44378    0.666667      1.000000  0.897810        0.474937   \n",
       "CLT_TPA_51502    0.166667      0.943324  0.867950        0.951963   \n",
       "MSP_ORD_44884    0.333333      0.917166  0.769409        0.741855   \n",
       "\n",
       "               RelativeHumidityPercent_y  WindDirection_y  WindGustValue_y  \\\n",
       "FlightNumber                                                                 \n",
       "BOS_CLE_29089                   0.591659         0.302083         0.000000   \n",
       "CLE_ATL_44346                   0.773144         0.373843         0.000000   \n",
       "SNA_LAS_44378                   0.026123         0.496528         0.119512   \n",
       "CLT_TPA_51502                   0.707608         0.413194         0.022339   \n",
       "MSP_ORD_44884                   0.521998         0.478009         0.059198   \n",
       "\n",
       "               StationPressure_y  HourlyPrecip_y  \n",
       "FlightNumber                                      \n",
       "BOS_CLE_29089           0.806957        0.000000  \n",
       "CLE_ATL_44346           0.750379        0.013817  \n",
       "SNA_LAS_44378           0.546440        0.000000  \n",
       "CLT_TPA_51502           0.887834        0.000000  \n",
       "MSP_ORD_44884           0.798916        0.000000  \n",
       "\n",
       "[5 rows x 41 columns]"
      ]
     },
     "execution_count": 4,
     "metadata": {},
     "output_type": "execute_result"
    }
   ],
   "source": [
    "inputData.head()"
   ]
  },
  {
   "cell_type": "code",
   "execution_count": 5,
   "metadata": {},
   "outputs": [
    {
     "data": {
      "text/plain": [
       "Index(['Month', 'DayofMonth', 'DayOfWeek', 'ScheduledDepTime',\n",
       "       'ScheduledArrTime', 'ScheduledTravelTime', 'Origin', 'Destination',\n",
       "       'Distance', 'flightDelayStatus', 'YearMonthDay', 'WeatherStationID_x',\n",
       "       'GroundHeight_x', 'StationHeight_x', 'BarometerHeight_x', 'Latitude_x',\n",
       "       'Longitude_x', 'TimeZone_x', 'Visibility_x', 'DBT_x', 'DewPointTemp_x',\n",
       "       'RelativeHumidityPercent_x', 'WindDirection_x', 'WindGustValue_x',\n",
       "       'StationPressure_x', 'HourlyPrecip_x', 'WeatherStationID_y',\n",
       "       'GroundHeight_y', 'StationHeight_y', 'BarometerHeight_y', 'Latitude_y',\n",
       "       'Longitude_y', 'TimeZone_y', 'Visibility_y', 'DBT_y', 'DewPointTemp_y',\n",
       "       'RelativeHumidityPercent_y', 'WindDirection_y', 'WindGustValue_y',\n",
       "       'StationPressure_y', 'HourlyPrecip_y'],\n",
       "      dtype='object')"
      ]
     },
     "execution_count": 5,
     "metadata": {},
     "output_type": "execute_result"
    }
   ],
   "source": [
    "inputData.columns"
   ]
  },
  {
   "cell_type": "code",
   "execution_count": 6,
   "metadata": {},
   "outputs": [
    {
     "data": {
      "text/html": [
       "<div>\n",
       "<style scoped>\n",
       "    .dataframe tbody tr th:only-of-type {\n",
       "        vertical-align: middle;\n",
       "    }\n",
       "\n",
       "    .dataframe tbody tr th {\n",
       "        vertical-align: top;\n",
       "    }\n",
       "\n",
       "    .dataframe thead th {\n",
       "        text-align: right;\n",
       "    }\n",
       "</style>\n",
       "<table border=\"1\" class=\"dataframe\">\n",
       "  <thead>\n",
       "    <tr style=\"text-align: right;\">\n",
       "      <th></th>\n",
       "      <th>Month</th>\n",
       "      <th>DayofMonth</th>\n",
       "      <th>DayOfWeek</th>\n",
       "      <th>ScheduledDepTime</th>\n",
       "      <th>ScheduledArrTime</th>\n",
       "      <th>ScheduledTravelTime</th>\n",
       "      <th>Origin</th>\n",
       "      <th>Destination</th>\n",
       "      <th>Distance</th>\n",
       "      <th>YearMonthDay</th>\n",
       "      <th>...</th>\n",
       "      <th>Longitude_y</th>\n",
       "      <th>TimeZone_y</th>\n",
       "      <th>Visibility_y</th>\n",
       "      <th>DBT_y</th>\n",
       "      <th>DewPointTemp_y</th>\n",
       "      <th>RelativeHumidityPercent_y</th>\n",
       "      <th>WindDirection_y</th>\n",
       "      <th>WindGustValue_y</th>\n",
       "      <th>StationPressure_y</th>\n",
       "      <th>HourlyPrecip_y</th>\n",
       "    </tr>\n",
       "    <tr>\n",
       "      <th>FlightNumber</th>\n",
       "      <th></th>\n",
       "      <th></th>\n",
       "      <th></th>\n",
       "      <th></th>\n",
       "      <th></th>\n",
       "      <th></th>\n",
       "      <th></th>\n",
       "      <th></th>\n",
       "      <th></th>\n",
       "      <th></th>\n",
       "      <th></th>\n",
       "      <th></th>\n",
       "      <th></th>\n",
       "      <th></th>\n",
       "      <th></th>\n",
       "      <th></th>\n",
       "      <th></th>\n",
       "      <th></th>\n",
       "      <th></th>\n",
       "      <th></th>\n",
       "      <th></th>\n",
       "    </tr>\n",
       "  </thead>\n",
       "  <tbody>\n",
       "    <tr>\n",
       "      <th>DEN_XNA_62349</th>\n",
       "      <td>2</td>\n",
       "      <td>11</td>\n",
       "      <td>0</td>\n",
       "      <td>0.820820</td>\n",
       "      <td>0.688609</td>\n",
       "      <td>0.077844</td>\n",
       "      <td>57</td>\n",
       "      <td>205</td>\n",
       "      <td>0.111792</td>\n",
       "      <td>10.506317</td>\n",
       "      <td>...</td>\n",
       "      <td>0.697177</td>\n",
       "      <td>0.333333</td>\n",
       "      <td>0.734060</td>\n",
       "      <td>0.807233</td>\n",
       "      <td>0.793233</td>\n",
       "      <td>0.520623</td>\n",
       "      <td>0.476852</td>\n",
       "      <td>0.044678</td>\n",
       "      <td>0.697122</td>\n",
       "      <td>0.0</td>\n",
       "    </tr>\n",
       "    <tr>\n",
       "      <th>RIC_EWR_87213</th>\n",
       "      <td>3</td>\n",
       "      <td>13</td>\n",
       "      <td>0</td>\n",
       "      <td>0.684543</td>\n",
       "      <td>0.493417</td>\n",
       "      <td>0.027944</td>\n",
       "      <td>174</td>\n",
       "      <td>63</td>\n",
       "      <td>0.042714</td>\n",
       "      <td>10.702624</td>\n",
       "      <td>...</td>\n",
       "      <td>0.902639</td>\n",
       "      <td>0.166667</td>\n",
       "      <td>1.000000</td>\n",
       "      <td>0.671533</td>\n",
       "      <td>0.578112</td>\n",
       "      <td>0.429423</td>\n",
       "      <td>0.656250</td>\n",
       "      <td>0.040210</td>\n",
       "      <td>0.910092</td>\n",
       "      <td>0.0</td>\n",
       "    </tr>\n",
       "    <tr>\n",
       "      <th>IAD_GSO_86576</th>\n",
       "      <td>2</td>\n",
       "      <td>27</td>\n",
       "      <td>2</td>\n",
       "      <td>0.520505</td>\n",
       "      <td>0.338294</td>\n",
       "      <td>0.005988</td>\n",
       "      <td>97</td>\n",
       "      <td>83</td>\n",
       "      <td>0.034744</td>\n",
       "      <td>10.521866</td>\n",
       "      <td>...</td>\n",
       "      <td>0.846799</td>\n",
       "      <td>0.166667</td>\n",
       "      <td>1.000000</td>\n",
       "      <td>0.757797</td>\n",
       "      <td>0.782373</td>\n",
       "      <td>0.627864</td>\n",
       "      <td>0.275463</td>\n",
       "      <td>0.000000</td>\n",
       "      <td>0.757604</td>\n",
       "      <td>0.0</td>\n",
       "    </tr>\n",
       "    <tr>\n",
       "      <th>SAV_CVG_87264</th>\n",
       "      <td>3</td>\n",
       "      <td>17</td>\n",
       "      <td>4</td>\n",
       "      <td>0.570978</td>\n",
       "      <td>0.428735</td>\n",
       "      <td>0.081836</td>\n",
       "      <td>181</td>\n",
       "      <td>48</td>\n",
       "      <td>0.091151</td>\n",
       "      <td>10.706511</td>\n",
       "      <td>...</td>\n",
       "      <td>0.797300</td>\n",
       "      <td>0.166667</td>\n",
       "      <td>0.952044</td>\n",
       "      <td>0.427339</td>\n",
       "      <td>0.376775</td>\n",
       "      <td>0.613657</td>\n",
       "      <td>0.417824</td>\n",
       "      <td>0.000000</td>\n",
       "      <td>0.792390</td>\n",
       "      <td>0.0</td>\n",
       "    </tr>\n",
       "    <tr>\n",
       "      <th>SBP_LAX_68158</th>\n",
       "      <td>1</td>\n",
       "      <td>4</td>\n",
       "      <td>1</td>\n",
       "      <td>0.261830</td>\n",
       "      <td>0.103034</td>\n",
       "      <td>0.003992</td>\n",
       "      <td>184</td>\n",
       "      <td>109</td>\n",
       "      <td>0.017576</td>\n",
       "      <td>10.305151</td>\n",
       "      <td>...</td>\n",
       "      <td>0.451115</td>\n",
       "      <td>0.666667</td>\n",
       "      <td>0.484469</td>\n",
       "      <td>0.708029</td>\n",
       "      <td>0.784879</td>\n",
       "      <td>0.789643</td>\n",
       "      <td>0.508102</td>\n",
       "      <td>0.021222</td>\n",
       "      <td>0.819194</td>\n",
       "      <td>0.0</td>\n",
       "    </tr>\n",
       "  </tbody>\n",
       "</table>\n",
       "<p>5 rows × 40 columns</p>\n",
       "</div>"
      ],
      "text/plain": [
       "               Month  DayofMonth  DayOfWeek  ScheduledDepTime  \\\n",
       "FlightNumber                                                    \n",
       "DEN_XNA_62349      2          11          0          0.820820   \n",
       "RIC_EWR_87213      3          13          0          0.684543   \n",
       "IAD_GSO_86576      2          27          2          0.520505   \n",
       "SAV_CVG_87264      3          17          4          0.570978   \n",
       "SBP_LAX_68158      1           4          1          0.261830   \n",
       "\n",
       "               ScheduledArrTime  ScheduledTravelTime  Origin  Destination  \\\n",
       "FlightNumber                                                                \n",
       "DEN_XNA_62349          0.688609             0.077844      57          205   \n",
       "RIC_EWR_87213          0.493417             0.027944     174           63   \n",
       "IAD_GSO_86576          0.338294             0.005988      97           83   \n",
       "SAV_CVG_87264          0.428735             0.081836     181           48   \n",
       "SBP_LAX_68158          0.103034             0.003992     184          109   \n",
       "\n",
       "               Distance  YearMonthDay       ...        Longitude_y  \\\n",
       "FlightNumber                                ...                      \n",
       "DEN_XNA_62349  0.111792     10.506317       ...           0.697177   \n",
       "RIC_EWR_87213  0.042714     10.702624       ...           0.902639   \n",
       "IAD_GSO_86576  0.034744     10.521866       ...           0.846799   \n",
       "SAV_CVG_87264  0.091151     10.706511       ...           0.797300   \n",
       "SBP_LAX_68158  0.017576     10.305151       ...           0.451115   \n",
       "\n",
       "               TimeZone_y  Visibility_y     DBT_y  DewPointTemp_y  \\\n",
       "FlightNumber                                                        \n",
       "DEN_XNA_62349    0.333333      0.734060  0.807233        0.793233   \n",
       "RIC_EWR_87213    0.166667      1.000000  0.671533        0.578112   \n",
       "IAD_GSO_86576    0.166667      1.000000  0.757797        0.782373   \n",
       "SAV_CVG_87264    0.166667      0.952044  0.427339        0.376775   \n",
       "SBP_LAX_68158    0.666667      0.484469  0.708029        0.784879   \n",
       "\n",
       "               RelativeHumidityPercent_y  WindDirection_y  WindGustValue_y  \\\n",
       "FlightNumber                                                                 \n",
       "DEN_XNA_62349                   0.520623         0.476852         0.044678   \n",
       "RIC_EWR_87213                   0.429423         0.656250         0.040210   \n",
       "IAD_GSO_86576                   0.627864         0.275463         0.000000   \n",
       "SAV_CVG_87264                   0.613657         0.417824         0.000000   \n",
       "SBP_LAX_68158                   0.789643         0.508102         0.021222   \n",
       "\n",
       "               StationPressure_y  HourlyPrecip_y  \n",
       "FlightNumber                                      \n",
       "DEN_XNA_62349           0.697122             0.0  \n",
       "RIC_EWR_87213           0.910092             0.0  \n",
       "IAD_GSO_86576           0.757604             0.0  \n",
       "SAV_CVG_87264           0.792390             0.0  \n",
       "SBP_LAX_68158           0.819194             0.0  \n",
       "\n",
       "[5 rows x 40 columns]"
      ]
     },
     "execution_count": 6,
     "metadata": {},
     "output_type": "execute_result"
    }
   ],
   "source": [
    "testData.head()"
   ]
  },
  {
   "cell_type": "code",
   "execution_count": 7,
   "metadata": {},
   "outputs": [
    {
     "data": {
      "text/html": [
       "<div>\n",
       "<style scoped>\n",
       "    .dataframe tbody tr th:only-of-type {\n",
       "        vertical-align: middle;\n",
       "    }\n",
       "\n",
       "    .dataframe tbody tr th {\n",
       "        vertical-align: top;\n",
       "    }\n",
       "\n",
       "    .dataframe thead th {\n",
       "        text-align: right;\n",
       "    }\n",
       "</style>\n",
       "<table border=\"1\" class=\"dataframe\">\n",
       "  <thead>\n",
       "    <tr style=\"text-align: right;\">\n",
       "      <th></th>\n",
       "      <th>Month</th>\n",
       "      <th>DayofMonth</th>\n",
       "      <th>DayOfWeek</th>\n",
       "      <th>ScheduledDepTime</th>\n",
       "      <th>ScheduledArrTime</th>\n",
       "      <th>ScheduledTravelTime</th>\n",
       "      <th>Origin</th>\n",
       "      <th>Destination</th>\n",
       "      <th>Distance</th>\n",
       "      <th>flightDelayStatus</th>\n",
       "      <th>...</th>\n",
       "      <th>Longitude_y</th>\n",
       "      <th>TimeZone_y</th>\n",
       "      <th>Visibility_y</th>\n",
       "      <th>DBT_y</th>\n",
       "      <th>DewPointTemp_y</th>\n",
       "      <th>RelativeHumidityPercent_y</th>\n",
       "      <th>WindDirection_y</th>\n",
       "      <th>WindGustValue_y</th>\n",
       "      <th>StationPressure_y</th>\n",
       "      <th>HourlyPrecip_y</th>\n",
       "    </tr>\n",
       "    <tr>\n",
       "      <th>FlightNumber</th>\n",
       "      <th></th>\n",
       "      <th></th>\n",
       "      <th></th>\n",
       "      <th></th>\n",
       "      <th></th>\n",
       "      <th></th>\n",
       "      <th></th>\n",
       "      <th></th>\n",
       "      <th></th>\n",
       "      <th></th>\n",
       "      <th></th>\n",
       "      <th></th>\n",
       "      <th></th>\n",
       "      <th></th>\n",
       "      <th></th>\n",
       "      <th></th>\n",
       "      <th></th>\n",
       "      <th></th>\n",
       "      <th></th>\n",
       "      <th></th>\n",
       "      <th></th>\n",
       "    </tr>\n",
       "  </thead>\n",
       "  <tbody>\n",
       "    <tr>\n",
       "      <th>BOS_CLE_29089</th>\n",
       "      <td>4</td>\n",
       "      <td>19</td>\n",
       "      <td>0</td>\n",
       "      <td>0.495268</td>\n",
       "      <td>0.344018</td>\n",
       "      <td>0.105788</td>\n",
       "      <td>27</td>\n",
       "      <td>43</td>\n",
       "      <td>0.100961</td>\n",
       "      <td>0</td>\n",
       "      <td>...</td>\n",
       "      <td>0.826856</td>\n",
       "      <td>0.166667</td>\n",
       "      <td>1.000000</td>\n",
       "      <td>0.677837</td>\n",
       "      <td>0.661236</td>\n",
       "      <td>0.591659</td>\n",
       "      <td>0.302083</td>\n",
       "      <td>0.000000</td>\n",
       "      <td>0.806957</td>\n",
       "      <td>0.000000</td>\n",
       "    </tr>\n",
       "    <tr>\n",
       "      <th>CLE_ATL_44346</th>\n",
       "      <td>5</td>\n",
       "      <td>18</td>\n",
       "      <td>4</td>\n",
       "      <td>0.772871</td>\n",
       "      <td>0.618775</td>\n",
       "      <td>0.105788</td>\n",
       "      <td>45</td>\n",
       "      <td>13</td>\n",
       "      <td>0.099121</td>\n",
       "      <td>1</td>\n",
       "      <td>...</td>\n",
       "      <td>0.798732</td>\n",
       "      <td>0.166667</td>\n",
       "      <td>0.657766</td>\n",
       "      <td>0.666224</td>\n",
       "      <td>0.727235</td>\n",
       "      <td>0.773144</td>\n",
       "      <td>0.373843</td>\n",
       "      <td>0.000000</td>\n",
       "      <td>0.750379</td>\n",
       "      <td>0.013817</td>\n",
       "    </tr>\n",
       "    <tr>\n",
       "      <th>SNA_LAS_44378</th>\n",
       "      <td>2</td>\n",
       "      <td>3</td>\n",
       "      <td>1</td>\n",
       "      <td>1.000000</td>\n",
       "      <td>0.772181</td>\n",
       "      <td>0.001996</td>\n",
       "      <td>205</td>\n",
       "      <td>115</td>\n",
       "      <td>0.032087</td>\n",
       "      <td>0</td>\n",
       "      <td>...</td>\n",
       "      <td>0.483330</td>\n",
       "      <td>0.666667</td>\n",
       "      <td>1.000000</td>\n",
       "      <td>0.897810</td>\n",
       "      <td>0.474937</td>\n",
       "      <td>0.026123</td>\n",
       "      <td>0.496528</td>\n",
       "      <td>0.119512</td>\n",
       "      <td>0.546440</td>\n",
       "      <td>0.000000</td>\n",
       "    </tr>\n",
       "    <tr>\n",
       "      <th>CLT_TPA_51502</th>\n",
       "      <td>3</td>\n",
       "      <td>5</td>\n",
       "      <td>1</td>\n",
       "      <td>0.747634</td>\n",
       "      <td>0.560962</td>\n",
       "      <td>0.063872</td>\n",
       "      <td>47</td>\n",
       "      <td>207</td>\n",
       "      <td>0.089720</td>\n",
       "      <td>0</td>\n",
       "      <td>...</td>\n",
       "      <td>0.818572</td>\n",
       "      <td>0.166667</td>\n",
       "      <td>0.943324</td>\n",
       "      <td>0.867950</td>\n",
       "      <td>0.951963</td>\n",
       "      <td>0.707608</td>\n",
       "      <td>0.413194</td>\n",
       "      <td>0.022339</td>\n",
       "      <td>0.887834</td>\n",
       "      <td>0.000000</td>\n",
       "    </tr>\n",
       "    <tr>\n",
       "      <th>MSP_ORD_44884</th>\n",
       "      <td>4</td>\n",
       "      <td>22</td>\n",
       "      <td>3</td>\n",
       "      <td>0.388013</td>\n",
       "      <td>0.224957</td>\n",
       "      <td>0.029940</td>\n",
       "      <td>153</td>\n",
       "      <td>155</td>\n",
       "      <td>0.054159</td>\n",
       "      <td>0</td>\n",
       "      <td>...</td>\n",
       "      <td>0.765085</td>\n",
       "      <td>0.333333</td>\n",
       "      <td>0.917166</td>\n",
       "      <td>0.769409</td>\n",
       "      <td>0.741855</td>\n",
       "      <td>0.521998</td>\n",
       "      <td>0.478009</td>\n",
       "      <td>0.059198</td>\n",
       "      <td>0.798916</td>\n",
       "      <td>0.000000</td>\n",
       "    </tr>\n",
       "  </tbody>\n",
       "</table>\n",
       "<p>5 rows × 41 columns</p>\n",
       "</div>"
      ],
      "text/plain": [
       "               Month  DayofMonth  DayOfWeek  ScheduledDepTime  \\\n",
       "FlightNumber                                                    \n",
       "BOS_CLE_29089      4          19          0          0.495268   \n",
       "CLE_ATL_44346      5          18          4          0.772871   \n",
       "SNA_LAS_44378      2           3          1          1.000000   \n",
       "CLT_TPA_51502      3           5          1          0.747634   \n",
       "MSP_ORD_44884      4          22          3          0.388013   \n",
       "\n",
       "               ScheduledArrTime  ScheduledTravelTime  Origin  Destination  \\\n",
       "FlightNumber                                                                \n",
       "BOS_CLE_29089          0.344018             0.105788      27           43   \n",
       "CLE_ATL_44346          0.618775             0.105788      45           13   \n",
       "SNA_LAS_44378          0.772181             0.001996     205          115   \n",
       "CLT_TPA_51502          0.560962             0.063872      47          207   \n",
       "MSP_ORD_44884          0.224957             0.029940     153          155   \n",
       "\n",
       "               Distance  flightDelayStatus       ...        Longitude_y  \\\n",
       "FlightNumber                                     ...                      \n",
       "BOS_CLE_29089  0.100961                  0       ...           0.826856   \n",
       "CLE_ATL_44346  0.099121                  1       ...           0.798732   \n",
       "SNA_LAS_44378  0.032087                  0       ...           0.483330   \n",
       "CLT_TPA_51502  0.089720                  0       ...           0.818572   \n",
       "MSP_ORD_44884  0.054159                  0       ...           0.765085   \n",
       "\n",
       "               TimeZone_y  Visibility_y     DBT_y  DewPointTemp_y  \\\n",
       "FlightNumber                                                        \n",
       "BOS_CLE_29089    0.166667      1.000000  0.677837        0.661236   \n",
       "CLE_ATL_44346    0.166667      0.657766  0.666224        0.727235   \n",
       "SNA_LAS_44378    0.666667      1.000000  0.897810        0.474937   \n",
       "CLT_TPA_51502    0.166667      0.943324  0.867950        0.951963   \n",
       "MSP_ORD_44884    0.333333      0.917166  0.769409        0.741855   \n",
       "\n",
       "               RelativeHumidityPercent_y  WindDirection_y  WindGustValue_y  \\\n",
       "FlightNumber                                                                 \n",
       "BOS_CLE_29089                   0.591659         0.302083         0.000000   \n",
       "CLE_ATL_44346                   0.773144         0.373843         0.000000   \n",
       "SNA_LAS_44378                   0.026123         0.496528         0.119512   \n",
       "CLT_TPA_51502                   0.707608         0.413194         0.022339   \n",
       "MSP_ORD_44884                   0.521998         0.478009         0.059198   \n",
       "\n",
       "               StationPressure_y  HourlyPrecip_y  \n",
       "FlightNumber                                      \n",
       "BOS_CLE_29089           0.806957        0.000000  \n",
       "CLE_ATL_44346           0.750379        0.013817  \n",
       "SNA_LAS_44378           0.546440        0.000000  \n",
       "CLT_TPA_51502           0.887834        0.000000  \n",
       "MSP_ORD_44884           0.798916        0.000000  \n",
       "\n",
       "[5 rows x 41 columns]"
      ]
     },
     "execution_count": 7,
     "metadata": {},
     "output_type": "execute_result"
    }
   ],
   "source": [
    "inputData.head()"
   ]
  },
  {
   "cell_type": "code",
   "execution_count": 8,
   "metadata": {},
   "outputs": [
    {
     "data": {
      "text/plain": [
       "Month                          int64\n",
       "DayofMonth                     int64\n",
       "DayOfWeek                      int64\n",
       "ScheduledDepTime             float64\n",
       "ScheduledArrTime             float64\n",
       "ScheduledTravelTime          float64\n",
       "Origin                         int64\n",
       "Destination                    int64\n",
       "Distance                     float64\n",
       "flightDelayStatus              int64\n",
       "YearMonthDay                 float64\n",
       "WeatherStationID_x           float64\n",
       "GroundHeight_x               float64\n",
       "StationHeight_x              float64\n",
       "BarometerHeight_x            float64\n",
       "Latitude_x                   float64\n",
       "Longitude_x                  float64\n",
       "TimeZone_x                   float64\n",
       "Visibility_x                 float64\n",
       "DBT_x                        float64\n",
       "DewPointTemp_x               float64\n",
       "RelativeHumidityPercent_x    float64\n",
       "WindDirection_x              float64\n",
       "WindGustValue_x              float64\n",
       "StationPressure_x            float64\n",
       "HourlyPrecip_x               float64\n",
       "WeatherStationID_y           float64\n",
       "GroundHeight_y               float64\n",
       "StationHeight_y              float64\n",
       "BarometerHeight_y            float64\n",
       "Latitude_y                   float64\n",
       "Longitude_y                  float64\n",
       "TimeZone_y                   float64\n",
       "Visibility_y                 float64\n",
       "DBT_y                        float64\n",
       "DewPointTemp_y               float64\n",
       "RelativeHumidityPercent_y    float64\n",
       "WindDirection_y              float64\n",
       "WindGustValue_y              float64\n",
       "StationPressure_y            float64\n",
       "HourlyPrecip_y               float64\n",
       "dtype: object"
      ]
     },
     "execution_count": 8,
     "metadata": {},
     "output_type": "execute_result"
    }
   ],
   "source": [
    "inputData.dtypes"
   ]
  },
  {
   "cell_type": "code",
   "execution_count": 9,
   "metadata": {},
   "outputs": [
    {
     "data": {
      "text/html": [
       "<div>\n",
       "<style scoped>\n",
       "    .dataframe tbody tr th:only-of-type {\n",
       "        vertical-align: middle;\n",
       "    }\n",
       "\n",
       "    .dataframe tbody tr th {\n",
       "        vertical-align: top;\n",
       "    }\n",
       "\n",
       "    .dataframe thead th {\n",
       "        text-align: right;\n",
       "    }\n",
       "</style>\n",
       "<table border=\"1\" class=\"dataframe\">\n",
       "  <thead>\n",
       "    <tr style=\"text-align: right;\">\n",
       "      <th></th>\n",
       "      <th>Month</th>\n",
       "      <th>DayofMonth</th>\n",
       "      <th>DayOfWeek</th>\n",
       "      <th>ScheduledDepTime</th>\n",
       "      <th>ScheduledArrTime</th>\n",
       "      <th>ScheduledTravelTime</th>\n",
       "      <th>Origin</th>\n",
       "      <th>Destination</th>\n",
       "      <th>Distance</th>\n",
       "      <th>flightDelayStatus</th>\n",
       "      <th>...</th>\n",
       "      <th>Longitude_y</th>\n",
       "      <th>TimeZone_y</th>\n",
       "      <th>Visibility_y</th>\n",
       "      <th>DBT_y</th>\n",
       "      <th>DewPointTemp_y</th>\n",
       "      <th>RelativeHumidityPercent_y</th>\n",
       "      <th>WindDirection_y</th>\n",
       "      <th>WindGustValue_y</th>\n",
       "      <th>StationPressure_y</th>\n",
       "      <th>HourlyPrecip_y</th>\n",
       "    </tr>\n",
       "  </thead>\n",
       "  <tbody>\n",
       "    <tr>\n",
       "      <th>count</th>\n",
       "      <td>7861.000000</td>\n",
       "      <td>7861.000000</td>\n",
       "      <td>7861.000000</td>\n",
       "      <td>7861.000000</td>\n",
       "      <td>7861.000000</td>\n",
       "      <td>7861.000000</td>\n",
       "      <td>7861.000000</td>\n",
       "      <td>7861.000000</td>\n",
       "      <td>7861.000000</td>\n",
       "      <td>7861.000000</td>\n",
       "      <td>...</td>\n",
       "      <td>7861.000000</td>\n",
       "      <td>7861.000000</td>\n",
       "      <td>7861.000000</td>\n",
       "      <td>7861.000000</td>\n",
       "      <td>7861.000000</td>\n",
       "      <td>7861.000000</td>\n",
       "      <td>7861.000000</td>\n",
       "      <td>7861.000000</td>\n",
       "      <td>7861.000000</td>\n",
       "      <td>7861.000000</td>\n",
       "    </tr>\n",
       "    <tr>\n",
       "      <th>mean</th>\n",
       "      <td>3.060425</td>\n",
       "      <td>14.441292</td>\n",
       "      <td>2.960946</td>\n",
       "      <td>0.620331</td>\n",
       "      <td>0.491833</td>\n",
       "      <td>0.136974</td>\n",
       "      <td>110.092355</td>\n",
       "      <td>102.350464</td>\n",
       "      <td>0.137904</td>\n",
       "      <td>0.193232</td>\n",
       "      <td>...</td>\n",
       "      <td>0.717997</td>\n",
       "      <td>0.321501</td>\n",
       "      <td>0.876634</td>\n",
       "      <td>0.719206</td>\n",
       "      <td>0.736308</td>\n",
       "      <td>0.656712</td>\n",
       "      <td>0.459261</td>\n",
       "      <td>0.052392</td>\n",
       "      <td>0.760049</td>\n",
       "      <td>0.026738</td>\n",
       "    </tr>\n",
       "    <tr>\n",
       "      <th>std</th>\n",
       "      <td>1.411165</td>\n",
       "      <td>9.049019</td>\n",
       "      <td>1.980921</td>\n",
       "      <td>0.223926</td>\n",
       "      <td>0.211642</td>\n",
       "      <td>0.126292</td>\n",
       "      <td>62.433381</td>\n",
       "      <td>59.912529</td>\n",
       "      <td>0.106812</td>\n",
       "      <td>0.394859</td>\n",
       "      <td>...</td>\n",
       "      <td>0.164386</td>\n",
       "      <td>0.187373</td>\n",
       "      <td>0.178375</td>\n",
       "      <td>0.110361</td>\n",
       "      <td>0.148618</td>\n",
       "      <td>0.186539</td>\n",
       "      <td>0.176299</td>\n",
       "      <td>0.100348</td>\n",
       "      <td>0.171333</td>\n",
       "      <td>0.083449</td>\n",
       "    </tr>\n",
       "    <tr>\n",
       "      <th>min</th>\n",
       "      <td>0.000000</td>\n",
       "      <td>0.000000</td>\n",
       "      <td>0.000000</td>\n",
       "      <td>0.000000</td>\n",
       "      <td>0.000000</td>\n",
       "      <td>0.000000</td>\n",
       "      <td>0.000000</td>\n",
       "      <td>0.000000</td>\n",
       "      <td>0.000000</td>\n",
       "      <td>0.000000</td>\n",
       "      <td>...</td>\n",
       "      <td>0.000000</td>\n",
       "      <td>0.000000</td>\n",
       "      <td>0.000000</td>\n",
       "      <td>0.000000</td>\n",
       "      <td>0.000000</td>\n",
       "      <td>0.000000</td>\n",
       "      <td>0.000000</td>\n",
       "      <td>0.000000</td>\n",
       "      <td>0.000000</td>\n",
       "      <td>0.000000</td>\n",
       "    </tr>\n",
       "    <tr>\n",
       "      <th>25%</th>\n",
       "      <td>2.000000</td>\n",
       "      <td>6.000000</td>\n",
       "      <td>1.000000</td>\n",
       "      <td>0.432177</td>\n",
       "      <td>0.319405</td>\n",
       "      <td>0.043912</td>\n",
       "      <td>58.000000</td>\n",
       "      <td>52.000000</td>\n",
       "      <td>0.061108</td>\n",
       "      <td>0.000000</td>\n",
       "      <td>...</td>\n",
       "      <td>0.634792</td>\n",
       "      <td>0.166667</td>\n",
       "      <td>0.812534</td>\n",
       "      <td>0.649635</td>\n",
       "      <td>0.635338</td>\n",
       "      <td>0.572411</td>\n",
       "      <td>0.331019</td>\n",
       "      <td>0.000000</td>\n",
       "      <td>0.744261</td>\n",
       "      <td>0.000000</td>\n",
       "    </tr>\n",
       "    <tr>\n",
       "      <th>50%</th>\n",
       "      <td>3.000000</td>\n",
       "      <td>14.000000</td>\n",
       "      <td>3.000000</td>\n",
       "      <td>0.630915</td>\n",
       "      <td>0.502003</td>\n",
       "      <td>0.101796</td>\n",
       "      <td>116.000000</td>\n",
       "      <td>101.000000</td>\n",
       "      <td>0.107501</td>\n",
       "      <td>0.000000</td>\n",
       "      <td>...</td>\n",
       "      <td>0.766108</td>\n",
       "      <td>0.333333</td>\n",
       "      <td>0.965123</td>\n",
       "      <td>0.740876</td>\n",
       "      <td>0.767753</td>\n",
       "      <td>0.688359</td>\n",
       "      <td>0.456019</td>\n",
       "      <td>0.000000</td>\n",
       "      <td>0.798800</td>\n",
       "      <td>0.000000</td>\n",
       "    </tr>\n",
       "    <tr>\n",
       "      <th>75%</th>\n",
       "      <td>4.000000</td>\n",
       "      <td>22.000000</td>\n",
       "      <td>5.000000</td>\n",
       "      <td>0.822082</td>\n",
       "      <td>0.672582</td>\n",
       "      <td>0.187625</td>\n",
       "      <td>162.000000</td>\n",
       "      <td>155.000000</td>\n",
       "      <td>0.180258</td>\n",
       "      <td>0.000000</td>\n",
       "      <td>...</td>\n",
       "      <td>0.831663</td>\n",
       "      <td>0.333333</td>\n",
       "      <td>1.000000</td>\n",
       "      <td>0.801261</td>\n",
       "      <td>0.855054</td>\n",
       "      <td>0.785060</td>\n",
       "      <td>0.572917</td>\n",
       "      <td>0.058081</td>\n",
       "      <td>0.860331</td>\n",
       "      <td>0.006908</td>\n",
       "    </tr>\n",
       "    <tr>\n",
       "      <th>max</th>\n",
       "      <td>5.000000</td>\n",
       "      <td>30.000000</td>\n",
       "      <td>6.000000</td>\n",
       "      <td>1.000000</td>\n",
       "      <td>1.000000</td>\n",
       "      <td>1.000000</td>\n",
       "      <td>222.000000</td>\n",
       "      <td>214.000000</td>\n",
       "      <td>1.000000</td>\n",
       "      <td>1.000000</td>\n",
       "      <td>...</td>\n",
       "      <td>1.000000</td>\n",
       "      <td>1.000000</td>\n",
       "      <td>1.000000</td>\n",
       "      <td>1.000000</td>\n",
       "      <td>1.000000</td>\n",
       "      <td>1.000000</td>\n",
       "      <td>1.000000</td>\n",
       "      <td>1.000000</td>\n",
       "      <td>1.000000</td>\n",
       "      <td>1.000000</td>\n",
       "    </tr>\n",
       "  </tbody>\n",
       "</table>\n",
       "<p>8 rows × 41 columns</p>\n",
       "</div>"
      ],
      "text/plain": [
       "             Month   DayofMonth    DayOfWeek  ScheduledDepTime  \\\n",
       "count  7861.000000  7861.000000  7861.000000       7861.000000   \n",
       "mean      3.060425    14.441292     2.960946          0.620331   \n",
       "std       1.411165     9.049019     1.980921          0.223926   \n",
       "min       0.000000     0.000000     0.000000          0.000000   \n",
       "25%       2.000000     6.000000     1.000000          0.432177   \n",
       "50%       3.000000    14.000000     3.000000          0.630915   \n",
       "75%       4.000000    22.000000     5.000000          0.822082   \n",
       "max       5.000000    30.000000     6.000000          1.000000   \n",
       "\n",
       "       ScheduledArrTime  ScheduledTravelTime       Origin  Destination  \\\n",
       "count       7861.000000          7861.000000  7861.000000  7861.000000   \n",
       "mean           0.491833             0.136974   110.092355   102.350464   \n",
       "std            0.211642             0.126292    62.433381    59.912529   \n",
       "min            0.000000             0.000000     0.000000     0.000000   \n",
       "25%            0.319405             0.043912    58.000000    52.000000   \n",
       "50%            0.502003             0.101796   116.000000   101.000000   \n",
       "75%            0.672582             0.187625   162.000000   155.000000   \n",
       "max            1.000000             1.000000   222.000000   214.000000   \n",
       "\n",
       "          Distance  flightDelayStatus       ...        Longitude_y  \\\n",
       "count  7861.000000        7861.000000       ...        7861.000000   \n",
       "mean      0.137904           0.193232       ...           0.717997   \n",
       "std       0.106812           0.394859       ...           0.164386   \n",
       "min       0.000000           0.000000       ...           0.000000   \n",
       "25%       0.061108           0.000000       ...           0.634792   \n",
       "50%       0.107501           0.000000       ...           0.766108   \n",
       "75%       0.180258           0.000000       ...           0.831663   \n",
       "max       1.000000           1.000000       ...           1.000000   \n",
       "\n",
       "        TimeZone_y  Visibility_y        DBT_y  DewPointTemp_y  \\\n",
       "count  7861.000000   7861.000000  7861.000000     7861.000000   \n",
       "mean      0.321501      0.876634     0.719206        0.736308   \n",
       "std       0.187373      0.178375     0.110361        0.148618   \n",
       "min       0.000000      0.000000     0.000000        0.000000   \n",
       "25%       0.166667      0.812534     0.649635        0.635338   \n",
       "50%       0.333333      0.965123     0.740876        0.767753   \n",
       "75%       0.333333      1.000000     0.801261        0.855054   \n",
       "max       1.000000      1.000000     1.000000        1.000000   \n",
       "\n",
       "       RelativeHumidityPercent_y  WindDirection_y  WindGustValue_y  \\\n",
       "count                7861.000000      7861.000000      7861.000000   \n",
       "mean                    0.656712         0.459261         0.052392   \n",
       "std                     0.186539         0.176299         0.100348   \n",
       "min                     0.000000         0.000000         0.000000   \n",
       "25%                     0.572411         0.331019         0.000000   \n",
       "50%                     0.688359         0.456019         0.000000   \n",
       "75%                     0.785060         0.572917         0.058081   \n",
       "max                     1.000000         1.000000         1.000000   \n",
       "\n",
       "       StationPressure_y  HourlyPrecip_y  \n",
       "count        7861.000000     7861.000000  \n",
       "mean            0.760049        0.026738  \n",
       "std             0.171333        0.083449  \n",
       "min             0.000000        0.000000  \n",
       "25%             0.744261        0.000000  \n",
       "50%             0.798800        0.000000  \n",
       "75%             0.860331        0.006908  \n",
       "max             1.000000        1.000000  \n",
       "\n",
       "[8 rows x 41 columns]"
      ]
     },
     "execution_count": 9,
     "metadata": {},
     "output_type": "execute_result"
    }
   ],
   "source": [
    "inputData.describe()"
   ]
  },
  {
   "cell_type": "markdown",
   "metadata": {},
   "source": [
    "### Model Building\n",
    "\n"
   ]
  },
  {
   "cell_type": "code",
   "execution_count": 10,
   "metadata": {},
   "outputs": [],
   "source": [
    "target = inputData['flightDelayStatus']\n",
    "inputData.drop(['flightDelayStatus'],axis=1,inplace=True)"
   ]
  },
  {
   "cell_type": "code",
   "execution_count": 11,
   "metadata": {},
   "outputs": [
    {
     "data": {
      "text/plain": [
       "0    6342\n",
       "1    1519\n",
       "Name: flightDelayStatus, dtype: int64"
      ]
     },
     "execution_count": 11,
     "metadata": {},
     "output_type": "execute_result"
    }
   ],
   "source": [
    "target.value_counts() ## 80.67 % "
   ]
  },
  {
   "cell_type": "markdown",
   "metadata": {},
   "source": [
    "#### Train/test split\n",
    "\n",
    "Stratified sampling with 80:20 ratio of train/validation split"
   ]
  },
  {
   "cell_type": "code",
   "execution_count": 12,
   "metadata": {},
   "outputs": [],
   "source": [
    "X_train, X_validate,Y_train, Y_validate = train_test_split(inputData,target,test_size=0.2,random_state=1512,stratify=target)"
   ]
  },
  {
   "cell_type": "code",
   "execution_count": 13,
   "metadata": {},
   "outputs": [
    {
     "name": "stdout",
     "output_type": "stream",
     "text": [
      "X-train shape :  (6288, 40)\n",
      "X-validate shape :  (1573, 40)\n",
      "Y-train shape :  (6288, 40)\n",
      "Y-validate shape :  (1573,)\n"
     ]
    }
   ],
   "source": [
    "print(\"X-train shape : \",X_train.shape)\n",
    "print(\"X-validate shape : \",X_validate.shape)\n",
    "print(\"Y-train shape : \",X_train.shape)\n",
    "print(\"Y-validate shape : \",Y_validate.shape)\n"
   ]
  },
  {
   "cell_type": "markdown",
   "metadata": {},
   "source": [
    "#### Function to createsubmissionfile for grader submission"
   ]
  },
  {
   "cell_type": "code",
   "execution_count": 14,
   "metadata": {},
   "outputs": [],
   "source": [
    "def createSubmissionFile(modelObj,test_x,filename):\n",
    "    test_preds = modelObj.predict(test_x)\n",
    "    test_preds = ['Yes' if x else 'No' for x in test_preds]\n",
    "    outputDf = pd.DataFrame(data={'FlightNumber':testData.index, \"FlightDelayStatus\":test_preds})\n",
    "    outputDf.to_csv(filename,index=False)"
   ]
  },
  {
   "cell_type": "markdown",
   "metadata": {},
   "source": [
    "#### Function to print Accuracy, F1 scores for fitted model, data given"
   ]
  },
  {
   "cell_type": "code",
   "execution_count": 15,
   "metadata": {},
   "outputs": [],
   "source": [
    "def printMetrics(modelObj,data_x,actual_y):\n",
    "    model_preds = modelObj.predict(data_x)\n",
    "    print(\"F1 Score : {}%\".format(round(getF1Score(modelObj,data_x,actual_y),4)*100))\n",
    "    print(\"Accuracy Score : {}%\".format(round(accuracy_score(model_preds,actual_y),4)*100))"
   ]
  },
  {
   "cell_type": "markdown",
   "metadata": {},
   "source": [
    "#### Function to get F1 score from prediction values"
   ]
  },
  {
   "cell_type": "code",
   "execution_count": 16,
   "metadata": {},
   "outputs": [],
   "source": [
    "def getF1Score(modelObj,data_x,actual_y):\n",
    "    model_preds = modelObj.predict(data_x)\n",
    "    return(f1_score(model_preds,actual_y))"
   ]
  },
  {
   "cell_type": "markdown",
   "metadata": {},
   "source": [
    "#### Function to get Feature Importance dataframe sorted in terms of significance"
   ]
  },
  {
   "cell_type": "code",
   "execution_count": 17,
   "metadata": {},
   "outputs": [],
   "source": [
    "def getFeatureImportance(rfModel,columnNames):\n",
    "    impList = rfModel.feature_importances_.tolist()\n",
    "    featureDf = pd.DataFrame({\"Feature\":columnNames,'Importance':impList})\n",
    "    featureDf = featureDf.sort_values(by=['Importance'],ascending=False)\n",
    "    return featureDf"
   ]
  },
  {
   "cell_type": "markdown",
   "metadata": {},
   "source": [
    "#### Model 1 : Decision Tree\n",
    "Decision Tree is chosen because tree algorithms can handle imbalanced data"
   ]
  },
  {
   "cell_type": "code",
   "execution_count": 18,
   "metadata": {},
   "outputs": [],
   "source": [
    "dt_model = DecisionTreeClassifier(criterion=\"gini\",random_state=1512)"
   ]
  },
  {
   "cell_type": "code",
   "execution_count": 19,
   "metadata": {},
   "outputs": [],
   "source": [
    "dt_model_fitted = dt_model.fit(X_train,Y_train)"
   ]
  },
  {
   "cell_type": "code",
   "execution_count": 20,
   "metadata": {},
   "outputs": [
    {
     "name": "stdout",
     "output_type": "stream",
     "text": [
      "F1 Score : 100.0%\n",
      "Accuracy Score : 100.0%\n"
     ]
    }
   ],
   "source": [
    "printMetrics(dt_model_fitted,X_train,Y_train)"
   ]
  },
  {
   "cell_type": "code",
   "execution_count": 21,
   "metadata": {},
   "outputs": [
    {
     "name": "stdout",
     "output_type": "stream",
     "text": [
      "F1 Score : 58.709999999999994%\n",
      "Accuracy Score : 83.28%\n"
     ]
    }
   ],
   "source": [
    "printMetrics(dt_model_fitted,X_validate,Y_validate)"
   ]
  },
  {
   "cell_type": "code",
   "execution_count": 22,
   "metadata": {
    "scrolled": true
   },
   "outputs": [
    {
     "data": {
      "text/plain": [
       "<matplotlib.axes._subplots.AxesSubplot at 0x1d6cda25208>"
      ]
     },
     "execution_count": 22,
     "metadata": {},
     "output_type": "execute_result"
    },
    {
     "data": {
      "image/png": "[encoded data removed]",
      "text/plain": [
       "<matplotlib.figure.Figure at 0x1d6d1192a58>"
      ]
     },
     "metadata": {},
     "output_type": "display_data"
    }
   ],
   "source": [
    "dt_feature_imp = getFeatureImportance(dt_model_fitted,X_train.columns)\n",
    "dt_feature_imp.plot(kind=\"bar\",figsize=(8,8),x=dt_feature_imp['Feature'])"
   ]
  },
  {
   "cell_type": "markdown",
   "metadata": {},
   "source": [
    "### Tuning Decision Tree"
   ]
  },
  {
   "cell_type": "markdown",
   "metadata": {},
   "source": [
    "##### F1 Scores Vs Max Depth "
   ]
  },
  {
   "cell_type": "code",
   "execution_count": 23,
   "metadata": {},
   "outputs": [],
   "source": [
    "### F1 score vs maxDepth ( Maximum depth of tree)\n",
    "train_f1 = []\n",
    "validation_f1 = []\n",
    "depths = np.arange(3,30)\n",
    "\n",
    "for depth in depths:\n",
    "    tree_depth = DecisionTreeClassifier(max_depth=depth)\n",
    "    tree_fitted = tree_depth.fit(X_train,Y_train)\n",
    "    train_f1.append(getF1Score(tree_fitted,X_train,Y_train))\n",
    "    validation_f1.append(getF1Score(tree_fitted,X_validate,Y_validate))\n",
    "\n",
    "# create data frame with maxdepth vs train/validation f1 scores\n",
    "train_f1_maxdepth = pd.DataFrame({\"Max Depth\":depths, \"Train_F1\":train_f1, \"Validation_F1\":validation_f1})"
   ]
  },
  {
   "cell_type": "code",
   "execution_count": 24,
   "metadata": {},
   "outputs": [
    {
     "data": {
      "image/png": "[encoded data removed]",
      "text/plain": [
       "<matplotlib.figure.Figure at 0x1d6d1702b38>"
      ]
     },
     "metadata": {},
     "output_type": "display_data"
    }
   ],
   "source": [
    "## plotting train/validation f1 scores w.r.t maxdepth\n",
    "fig,ax = plt.subplots(1,1,figsize=(10,7))\n",
    "ax.plot(depths,train_f1_maxdepth['Train_F1'],label='Train')\n",
    "ax.plot(depths,train_f1_maxdepth['Validation_F1'],label='Validation')\n",
    "ax.legend()\n",
    "plt.ylabel('F1 Score')\n",
    "plt.title('F1 Score vs Maximum Depth of Tree')\n",
    "plt.show()"
   ]
  },
  {
   "cell_type": "code",
   "execution_count": 25,
   "metadata": {},
   "outputs": [],
   "source": [
    "## Using stratified K fold validation\n",
    "stratKFold = StratifiedKFold(n_splits= 5,shuffle= True, random_state= 1512)"
   ]
  },
  {
   "cell_type": "code",
   "execution_count": 26,
   "metadata": {},
   "outputs": [
    {
     "name": "stdout",
     "output_type": "stream",
     "text": [
      "Fitting 5 folds for each of 2430 candidates, totalling 12150 fits\n"
     ]
    },
    {
     "name": "stderr",
     "output_type": "stream",
     "text": [
      "[Parallel(n_jobs=-1)]: Done  47 tasks      | elapsed:    4.2s\n",
      "[Parallel(n_jobs=-1)]: Done 347 tasks      | elapsed:    9.5s\n",
      "[Parallel(n_jobs=-1)]: Done 847 tasks      | elapsed:   19.7s\n",
      "[Parallel(n_jobs=-1)]: Done 1547 tasks      | elapsed:   41.7s\n",
      "[Parallel(n_jobs=-1)]: Done 2447 tasks      | elapsed:  1.2min\n",
      "[Parallel(n_jobs=-1)]: Done 3547 tasks      | elapsed:  2.0min\n",
      "[Parallel(n_jobs=-1)]: Done 4847 tasks      | elapsed:  2.9min\n",
      "[Parallel(n_jobs=-1)]: Done 6168 tasks      | elapsed:  4.2min\n",
      "[Parallel(n_jobs=-1)]: Done 7018 tasks      | elapsed:  4.8min\n",
      "[Parallel(n_jobs=-1)]: Done 7968 tasks      | elapsed:  5.6min\n",
      "[Parallel(n_jobs=-1)]: Done 9018 tasks      | elapsed:  6.5min\n",
      "[Parallel(n_jobs=-1)]: Done 10168 tasks      | elapsed:  7.4min\n",
      "[Parallel(n_jobs=-1)]: Done 11418 tasks      | elapsed:  8.5min\n",
      "[Parallel(n_jobs=-1)]: Done 12150 out of 12150 | elapsed:  9.1min finished\n"
     ]
    },
    {
     "name": "stdout",
     "output_type": "stream",
     "text": [
      "Wall time: 9min 4s\n"
     ]
    },
    {
     "data": {
      "text/plain": [
       "GridSearchCV(cv=StratifiedKFold(n_splits=5, random_state=1512, shuffle=True),\n",
       "       error_score='raise',\n",
       "       estimator=DecisionTreeClassifier(class_weight=None, criterion='gini', max_depth=None,\n",
       "            max_features=None, max_leaf_nodes=None,\n",
       "            min_impurity_decrease=0.0, min_impurity_split=None,\n",
       "            min_samples_leaf=1, min_samples_split=2,\n",
       "            min_weight_fraction_leaf=0.0, presort=False, random_state=None,\n",
       "            splitter='best'),\n",
       "       fit_params=None, iid=True, n_jobs=-1,\n",
       "       param_grid={'max_depth': array([ 3,  4,  5,  6,  7,  8,  9, 10, 11, 12, 13, 14, 15, 16, 17, 18, 19,\n",
       "       20, 21, 22, 23, 24, 25, 26, 27, 28, 29]), 'min_samples_split': array([ 2,  4,  6,  8, 10, 12, 14, 16, 18]), 'min_samples_leaf': array([ 1,  3,  5,  7,  9, 11, 13, 15, 17, 19]), 'random_state': [715]},\n",
       "       pre_dispatch='2*n_jobs', refit=True, return_train_score='warn',\n",
       "       scoring='f1', verbose=1)"
      ]
     },
     "execution_count": 26,
     "metadata": {},
     "output_type": "execute_result"
    }
   ],
   "source": [
    "grid_params = {\"max_depth\":np.arange(3,30),\n",
    "               'min_samples_split' : np.arange(2,20,2),\n",
    "              'min_samples_leaf' : np.arange(1,21,2),\n",
    "               \"random_state\":[715]}\n",
    "\n",
    "gridSearchDt = GridSearchCV(DecisionTreeClassifier(), grid_params, scoring='f1', n_jobs=-1, cv = stratKFold, verbose = 1)\n",
    "\n",
    "%time gridSearchDt.fit(X_train,Y_train)"
   ]
  },
  {
   "cell_type": "code",
   "execution_count": 27,
   "metadata": {},
   "outputs": [],
   "source": [
    "best_dt_tree = gridSearchDt.best_estimator_\n",
    "best_dt_tree = best_dt_tree.fit(X_train,Y_train)"
   ]
  },
  {
   "cell_type": "code",
   "execution_count": 28,
   "metadata": {},
   "outputs": [
    {
     "name": "stdout",
     "output_type": "stream",
     "text": [
      "F1 Score : 72.39999999999999%\n",
      "Accuracy Score : 89.74%\n"
     ]
    }
   ],
   "source": [
    "printMetrics(best_dt_tree,X_train,Y_train)"
   ]
  },
  {
   "cell_type": "code",
   "execution_count": 29,
   "metadata": {},
   "outputs": [
    {
     "name": "stdout",
     "output_type": "stream",
     "text": [
      "F1 Score : 61.53999999999999%\n",
      "Accuracy Score : 85.7%\n"
     ]
    }
   ],
   "source": [
    "printMetrics(best_dt_tree,X_validate,Y_validate)"
   ]
  },
  {
   "cell_type": "code",
   "execution_count": 30,
   "metadata": {},
   "outputs": [],
   "source": [
    "createSubmissionFile(best_dt_tree,testData,\"submission_best_dt.csv\")"
   ]
  },
  {
   "cell_type": "markdown",
   "metadata": {},
   "source": [
    "### Model 2 : Random Forest"
   ]
  },
  {
   "cell_type": "code",
   "execution_count": 31,
   "metadata": {},
   "outputs": [],
   "source": [
    "from sklearn.ensemble import RandomForestClassifier"
   ]
  },
  {
   "cell_type": "code",
   "execution_count": 32,
   "metadata": {},
   "outputs": [],
   "source": [
    "rf_model = RandomForestClassifier(n_jobs=-1,random_state=715)\n",
    "rf_model_fitted = rf_model.fit(X_train,Y_train)"
   ]
  },
  {
   "cell_type": "code",
   "execution_count": 33,
   "metadata": {},
   "outputs": [
    {
     "name": "stdout",
     "output_type": "stream",
     "text": [
      "F1 Score : 96.57%\n",
      "Accuracy Score : 98.71%\n"
     ]
    }
   ],
   "source": [
    "printMetrics(rf_model_fitted,X_train,Y_train)"
   ]
  },
  {
   "cell_type": "code",
   "execution_count": 34,
   "metadata": {},
   "outputs": [
    {
     "name": "stdout",
     "output_type": "stream",
     "text": [
      "F1 Score : 59.96%\n",
      "Accuracy Score : 87.35000000000001%\n"
     ]
    }
   ],
   "source": [
    "printMetrics(rf_model_fitted,X_validate,Y_validate)"
   ]
  },
  {
   "cell_type": "code",
   "execution_count": 35,
   "metadata": {},
   "outputs": [],
   "source": [
    "createSubmissionFile(rf_model_fitted,testData,\"submission_rf_basic.csv\")"
   ]
  },
  {
   "cell_type": "markdown",
   "metadata": {},
   "source": [
    "#### Tuning Random Forest"
   ]
  },
  {
   "cell_type": "markdown",
   "metadata": {},
   "source": [
    "#### F1 score vs nEstimators"
   ]
  },
  {
   "cell_type": "code",
   "execution_count": 36,
   "metadata": {},
   "outputs": [],
   "source": [
    "### F1 score vs number of estimators (number of columns to be subsetted for tree building)\n",
    "train_f1 = []\n",
    "validation_f1 = []\n",
    "estimators = np.arange(3,25)\n",
    "\n",
    "for estimator in estimators:\n",
    "    tree_depth = RandomForestClassifier(n_estimators=estimator)\n",
    "    tree_fitted = tree_depth.fit(X_train,Y_train)\n",
    "    train_f1.append(getF1Score(tree_fitted,X_train,Y_train))\n",
    "    validation_f1.append(getF1Score(tree_fitted,X_validate,Y_validate))\n",
    "\n",
    "# create data frame with maxdepth vs train/validation f1 scores\n",
    "train_f1_maxdepth = pd.DataFrame({\"Number of Estimators\":estimators, \"Train_F1\":train_f1, \"Validation_F1\":validation_f1})"
   ]
  },
  {
   "cell_type": "code",
   "execution_count": 37,
   "metadata": {},
   "outputs": [
    {
     "data": {
      "image/png": "[encoded data removed]",
      "text/plain": [
       "<matplotlib.figure.Figure at 0x1d6d119b2e8>"
      ]
     },
     "metadata": {},
     "output_type": "display_data"
    }
   ],
   "source": [
    "## plotting train/validation f1 scores w.r.t number of estimators\n",
    "fig,ax = plt.subplots(1,1,figsize=(5,5))\n",
    "ax.plot(estimators,train_f1_maxdepth['Train_F1'],label='Train')\n",
    "ax.plot(estimators,train_f1_maxdepth['Validation_F1'],label='Validation')\n",
    "ax.legend()\n",
    "plt.ylabel('F1 Score')\n",
    "plt.title('F1 Score vs Number of Estimators')\n",
    "plt.show()"
   ]
  },
  {
   "cell_type": "code",
   "execution_count": 38,
   "metadata": {},
   "outputs": [],
   "source": [
    "## RandomSearch for cross validation\n",
    "n_estimators = [int(x) for x in np.linspace(start = 10, stop = 200, num = 5)]\n",
    "max_features = ['auto', 'sqrt', 'log2']\n",
    "max_depth = [int(x) for x in np.linspace(2, 30, num = 15)]\n",
    "max_depth.append(None)\n",
    "min_samples_leaf = [int(x) for x in np.linspace(2, 50, num = 25)]\n",
    "min_samples_split = [int(x) for x in np.linspace(2, 100, num = 50)]\n",
    "\n",
    "random_grid = {'n_estimators': n_estimators,\n",
    "               'max_features': max_features,\n",
    "               'max_depth': max_depth,\n",
    "               'min_samples_leaf': min_samples_leaf,\n",
    "               'min_samples_split' : min_samples_split,\n",
    "               'n_jobs' : [-1],\n",
    "               'random_state' : [1512]}"
   ]
  },
  {
   "cell_type": "code",
   "execution_count": 39,
   "metadata": {},
   "outputs": [],
   "source": [
    "stratKFold = StratifiedKFold(n_splits= 5,shuffle= True, random_state= 1512)"
   ]
  },
  {
   "cell_type": "code",
   "execution_count": 40,
   "metadata": {},
   "outputs": [
    {
     "name": "stdout",
     "output_type": "stream",
     "text": [
      "Fitting 5 folds for each of 50 candidates, totalling 250 fits\n"
     ]
    },
    {
     "name": "stderr",
     "output_type": "stream",
     "text": [
      "[Parallel(n_jobs=-1)]: Done  42 tasks      | elapsed:   25.7s\n",
      "[Parallel(n_jobs=-1)]: Done 192 tasks      | elapsed:  1.6min\n",
      "[Parallel(n_jobs=-1)]: Done 250 out of 250 | elapsed:  2.1min finished\n"
     ]
    },
    {
     "name": "stdout",
     "output_type": "stream",
     "text": [
      "Wall time: 2min 4s\n"
     ]
    },
    {
     "data": {
      "text/plain": [
       "RandomizedSearchCV(cv=StratifiedKFold(n_splits=5, random_state=1512, shuffle=True),\n",
       "          error_score='raise',\n",
       "          estimator=RandomForestClassifier(bootstrap=True, class_weight=None, criterion='gini',\n",
       "            max_depth=None, max_features='auto', max_leaf_nodes=None,\n",
       "            min_impurity_decrease=0.0, min_impurity_split=None,\n",
       "            min_samples_leaf=1, min_samples_split=2,\n",
       "            min_weight_fraction_leaf=0.0, n_estimators=10, n_jobs=1,\n",
       "            oob_score=False, random_state=None, verbose=0,\n",
       "            warm_start=False),\n",
       "          fit_params=None, iid=True, n_iter=50, n_jobs=-1,\n",
       "          param_distributions={'n_estimators': [10, 57, 105, 152, 200], 'max_features': ['auto', 'sqrt', 'log2'], 'max_depth': [2, 4, 6, 8, 10, 12, 14, 16, 18, 20, 22, 24, 26, 28, 30, None], 'min_samples_leaf': [2, 4, 6, 8, 10, 12, 14, 16, 18, 20, 22, 24, 26, 28, 30, 32, 34, 36, 38, 40, 42, 44, 46, 48, 50], '...2, 74, 76, 78, 80, 82, 84, 86, 88, 90, 92, 94, 96, 98, 100], 'n_jobs': [-1], 'random_state': [1512]},\n",
       "          pre_dispatch='2*n_jobs', random_state=1512, refit=True,\n",
       "          return_train_score='warn', scoring='f1', verbose=1)"
      ]
     },
     "execution_count": 40,
     "metadata": {},
     "output_type": "execute_result"
    }
   ],
   "source": [
    "forest_random = RandomizedSearchCV(estimator = RandomForestClassifier(), param_distributions = random_grid, \n",
    "                               n_iter = 50, cv =stratKFold , random_state=1512, n_jobs = -1,scoring = 'f1',verbose=1)\n",
    "%time forest_random.fit(X_train,Y_train)"
   ]
  },
  {
   "cell_type": "code",
   "execution_count": 41,
   "metadata": {},
   "outputs": [
    {
     "name": "stdout",
     "output_type": "stream",
     "text": [
      "RandomForestClassifier(bootstrap=True, class_weight=None, criterion='gini',\n",
      "            max_depth=20, max_features='auto', max_leaf_nodes=None,\n",
      "            min_impurity_decrease=0.0, min_impurity_split=None,\n",
      "            min_samples_leaf=2, min_samples_split=40,\n",
      "            min_weight_fraction_leaf=0.0, n_estimators=57, n_jobs=-1,\n",
      "            oob_score=False, random_state=1512, verbose=0,\n",
      "            warm_start=False)\n"
     ]
    }
   ],
   "source": [
    "best_rf_tuned = forest_random.best_estimator_\n",
    "print(best_rf_tuned)"
   ]
  },
  {
   "cell_type": "code",
   "execution_count": 42,
   "metadata": {},
   "outputs": [
    {
     "name": "stdout",
     "output_type": "stream",
     "text": [
      "F1 Score : 73.16%\n",
      "Accuracy Score : 91.36%\n"
     ]
    }
   ],
   "source": [
    "best_rf_fitted = best_rf_tuned.fit(X_train,Y_train)\n",
    "printMetrics(best_rf_fitted,X_train,Y_train)"
   ]
  },
  {
   "cell_type": "code",
   "execution_count": 43,
   "metadata": {},
   "outputs": [
    {
     "name": "stdout",
     "output_type": "stream",
     "text": [
      "F1 Score : 60.62%\n",
      "Accuracy Score : 87.86%\n"
     ]
    }
   ],
   "source": [
    "printMetrics(best_rf_fitted,X_validate,Y_validate)"
   ]
  },
  {
   "cell_type": "code",
   "execution_count": 44,
   "metadata": {},
   "outputs": [],
   "source": [
    "createSubmissionFile(best_rf_fitted,testData,\"submission_rf_tuned_origdest.csv\")"
   ]
  },
  {
   "cell_type": "code",
   "execution_count": 45,
   "metadata": {},
   "outputs": [
    {
     "data": {
      "text/plain": [
       "<matplotlib.axes._subplots.AxesSubplot at 0x1d6d18877b8>"
      ]
     },
     "execution_count": 45,
     "metadata": {},
     "output_type": "execute_result"
    },
    {
     "data": {
      "image/png": "[encoded data removed]",
      "text/plain": [
       "<matplotlib.figure.Figure at 0x1d6d1733eb8>"
      ]
     },
     "metadata": {},
     "output_type": "display_data"
    }
   ],
   "source": [
    "## Rf with imp attributes \n",
    "featureImpDf = getFeatureImportance(best_rf_fitted,inputData.columns)\n",
    "featureImpDf.plot(kind=\"bar\",figsize=(8,8),x=featureImpDf['Feature'])"
   ]
  },
  {
   "cell_type": "markdown",
   "metadata": {},
   "source": [
    "#### Model 3 : XG Boost"
   ]
  },
  {
   "cell_type": "code",
   "execution_count": 46,
   "metadata": {},
   "outputs": [],
   "source": [
    "from xgboost import XGBClassifier"
   ]
  },
  {
   "cell_type": "code",
   "execution_count": 47,
   "metadata": {},
   "outputs": [],
   "source": [
    "xgb_model = XGBClassifier(n_jobs=-1)\n",
    "xgb_fitted = xgb_model.fit(X_train,Y_train)"
   ]
  },
  {
   "cell_type": "code",
   "execution_count": 48,
   "metadata": {},
   "outputs": [
    {
     "name": "stdout",
     "output_type": "stream",
     "text": [
      "F1 Score : 69.42%\n",
      "Accuracy Score : 90.11%\n"
     ]
    }
   ],
   "source": [
    "printMetrics(xgb_fitted,X_train,Y_train)"
   ]
  },
  {
   "cell_type": "code",
   "execution_count": 49,
   "metadata": {},
   "outputs": [
    {
     "name": "stdout",
     "output_type": "stream",
     "text": [
      "F1 Score : 65.35%\n",
      "Accuracy Score : 88.87%\n"
     ]
    }
   ],
   "source": [
    "printMetrics(xgb_fitted,X_validate,Y_validate)"
   ]
  },
  {
   "cell_type": "code",
   "execution_count": 50,
   "metadata": {},
   "outputs": [],
   "source": [
    "createSubmissionFile(xgb_fitted,testData,\"submission_xgb_basic_origdest.csv\")"
   ]
  },
  {
   "cell_type": "code",
   "execution_count": 51,
   "metadata": {},
   "outputs": [
    {
     "name": "stdout",
     "output_type": "stream",
     "text": [
      "[0]\tvalidation_0-auc:0.860796\n",
      "Will train until validation_0-auc hasn't improved in 200 rounds.\n",
      "[1]\tvalidation_0-auc:0.884705\n",
      "[2]\tvalidation_0-auc:0.881079\n",
      "[3]\tvalidation_0-auc:0.886658\n",
      "[4]\tvalidation_0-auc:0.890223\n",
      "[5]\tvalidation_0-auc:0.897662\n",
      "[6]\tvalidation_0-auc:0.899649\n",
      "[7]\tvalidation_0-auc:0.900578\n",
      "[8]\tvalidation_0-auc:0.901579\n",
      "[9]\tvalidation_0-auc:0.903366\n",
      "[10]\tvalidation_0-auc:0.904861\n",
      "[11]\tvalidation_0-auc:0.905213\n",
      "[12]\tvalidation_0-auc:0.905467\n",
      "[13]\tvalidation_0-auc:0.906634\n",
      "[14]\tvalidation_0-auc:0.906927\n",
      "[15]\tvalidation_0-auc:0.906377\n",
      "[16]\tvalidation_0-auc:0.906684\n",
      "[17]\tvalidation_0-auc:0.907146\n",
      "[18]\tvalidation_0-auc:0.906932\n",
      "[19]\tvalidation_0-auc:0.906875\n",
      "[20]\tvalidation_0-auc:0.907782\n",
      "[21]\tvalidation_0-auc:0.907785\n",
      "[22]\tvalidation_0-auc:0.908044\n",
      "[23]\tvalidation_0-auc:0.908036\n",
      "[24]\tvalidation_0-auc:0.909304\n",
      "[25]\tvalidation_0-auc:0.909484\n",
      "[26]\tvalidation_0-auc:0.910399\n",
      "[27]\tvalidation_0-auc:0.91122\n",
      "[28]\tvalidation_0-auc:0.910861\n",
      "[29]\tvalidation_0-auc:0.912902\n",
      "[30]\tvalidation_0-auc:0.91314\n",
      "[31]\tvalidation_0-auc:0.914017\n",
      "[32]\tvalidation_0-auc:0.914233\n",
      "[33]\tvalidation_0-auc:0.914816\n",
      "[34]\tvalidation_0-auc:0.914765\n",
      "[35]\tvalidation_0-auc:0.915277\n",
      "[36]\tvalidation_0-auc:0.915368\n",
      "[37]\tvalidation_0-auc:0.915723\n",
      "[38]\tvalidation_0-auc:0.916151\n",
      "[39]\tvalidation_0-auc:0.9163\n",
      "[40]\tvalidation_0-auc:0.916432\n",
      "[41]\tvalidation_0-auc:0.916687\n",
      "[42]\tvalidation_0-auc:0.917079\n",
      "[43]\tvalidation_0-auc:0.917565\n",
      "[44]\tvalidation_0-auc:0.917972\n",
      "[45]\tvalidation_0-auc:0.91791\n",
      "[46]\tvalidation_0-auc:0.917919\n",
      "[47]\tvalidation_0-auc:0.918323\n",
      "[48]\tvalidation_0-auc:0.91817\n",
      "[49]\tvalidation_0-auc:0.918616\n",
      "[50]\tvalidation_0-auc:0.918847\n",
      "[51]\tvalidation_0-auc:0.919009\n",
      "[52]\tvalidation_0-auc:0.919455\n",
      "[53]\tvalidation_0-auc:0.919906\n",
      "[54]\tvalidation_0-auc:0.920245\n",
      "[55]\tvalidation_0-auc:0.920204\n",
      "[56]\tvalidation_0-auc:0.920686\n",
      "[57]\tvalidation_0-auc:0.920758\n",
      "[58]\tvalidation_0-auc:0.921101\n",
      "[59]\tvalidation_0-auc:0.921036\n",
      "[60]\tvalidation_0-auc:0.921181\n",
      "[61]\tvalidation_0-auc:0.921146\n",
      "[62]\tvalidation_0-auc:0.9212\n",
      "[63]\tvalidation_0-auc:0.921283\n",
      "[64]\tvalidation_0-auc:0.921263\n",
      "[65]\tvalidation_0-auc:0.921325\n",
      "[66]\tvalidation_0-auc:0.921524\n",
      "[67]\tvalidation_0-auc:0.921335\n",
      "[68]\tvalidation_0-auc:0.921219\n",
      "[69]\tvalidation_0-auc:0.921343\n",
      "[70]\tvalidation_0-auc:0.921514\n",
      "[71]\tvalidation_0-auc:0.921815\n",
      "[72]\tvalidation_0-auc:0.921766\n",
      "[73]\tvalidation_0-auc:0.921918\n",
      "[74]\tvalidation_0-auc:0.921799\n",
      "[75]\tvalidation_0-auc:0.921613\n",
      "[76]\tvalidation_0-auc:0.921729\n",
      "[77]\tvalidation_0-auc:0.921579\n",
      "[78]\tvalidation_0-auc:0.921729\n",
      "[79]\tvalidation_0-auc:0.921848\n",
      "[80]\tvalidation_0-auc:0.921999\n",
      "[81]\tvalidation_0-auc:0.922087\n",
      "[82]\tvalidation_0-auc:0.922105\n",
      "[83]\tvalidation_0-auc:0.922025\n",
      "[84]\tvalidation_0-auc:0.92202\n",
      "[85]\tvalidation_0-auc:0.921978\n",
      "[86]\tvalidation_0-auc:0.922014\n",
      "[87]\tvalidation_0-auc:0.922108\n",
      "[88]\tvalidation_0-auc:0.92225\n",
      "[89]\tvalidation_0-auc:0.922393\n",
      "[90]\tvalidation_0-auc:0.922235\n",
      "[91]\tvalidation_0-auc:0.922393\n",
      "[92]\tvalidation_0-auc:0.922377\n",
      "[93]\tvalidation_0-auc:0.922486\n",
      "[94]\tvalidation_0-auc:0.922263\n",
      "[95]\tvalidation_0-auc:0.922261\n",
      "[96]\tvalidation_0-auc:0.92217\n",
      "[97]\tvalidation_0-auc:0.922242\n",
      "[98]\tvalidation_0-auc:0.921825\n",
      "[99]\tvalidation_0-auc:0.921828\n"
     ]
    }
   ],
   "source": [
    "eval_set = [(X_validate, Y_validate)]\n",
    "xgb_cv_fitted = xgb_model.fit(X=X_train, y=Y_train,early_stopping_rounds=200, eval_set=eval_set,eval_metric=\"auc\",verbose=True)"
   ]
  },
  {
   "cell_type": "code",
   "execution_count": 52,
   "metadata": {},
   "outputs": [
    {
     "name": "stdout",
     "output_type": "stream",
     "text": [
      "XGBClassifier(base_score=0.5, booster='gbtree', colsample_bylevel=1,\n",
      "       colsample_bytree=1, gamma=0, learning_rate=0.1, max_delta_step=0,\n",
      "       max_depth=3, min_child_weight=1, missing=None, n_estimators=100,\n",
      "       n_jobs=-1, nthread=None, objective='binary:logistic',\n",
      "       random_state=0, reg_alpha=0, reg_lambda=1, scale_pos_weight=1,\n",
      "       seed=None, silent=True, subsample=1)\n"
     ]
    }
   ],
   "source": [
    "print(xgb_cv_fitted)"
   ]
  },
  {
   "cell_type": "code",
   "execution_count": 53,
   "metadata": {},
   "outputs": [
    {
     "name": "stdout",
     "output_type": "stream",
     "text": [
      "F1 Score : 69.42%\n",
      "Accuracy Score : 90.11%\n"
     ]
    }
   ],
   "source": [
    "printMetrics(xgb_cv_fitted,X_train,Y_train)"
   ]
  },
  {
   "cell_type": "code",
   "execution_count": 54,
   "metadata": {},
   "outputs": [
    {
     "name": "stdout",
     "output_type": "stream",
     "text": [
      "F1 Score : 65.35%\n",
      "Accuracy Score : 88.87%\n"
     ]
    }
   ],
   "source": [
    "printMetrics(xgb_cv_fitted,X_validate,Y_validate)\n",
    "createSubmissionFile(xgb_cv_fitted,testData,\"submission_xgb_best_origdest.csv\")"
   ]
  },
  {
   "cell_type": "code",
   "execution_count": 55,
   "metadata": {},
   "outputs": [
    {
     "name": "stdout",
     "output_type": "stream",
     "text": [
      "             precision    recall  f1-score   support\n",
      "\n",
      "         No       0.90      0.97      0.93      1269\n",
      "        Yes       0.82      0.54      0.65       304\n",
      "\n",
      "avg / total       0.88      0.89      0.88      1573\n",
      "\n"
     ]
    }
   ],
   "source": [
    "print(classification_report(Y_validate, xgb_cv_fitted.predict(X_validate), target_names=['No','Yes']))"
   ]
  },
  {
   "cell_type": "markdown",
   "metadata": {},
   "source": [
    "#### Model 4 :  Ada Boost"
   ]
  },
  {
   "cell_type": "code",
   "execution_count": 56,
   "metadata": {},
   "outputs": [],
   "source": [
    "from sklearn.ensemble import AdaBoostClassifier"
   ]
  },
  {
   "cell_type": "code",
   "execution_count": 57,
   "metadata": {},
   "outputs": [],
   "source": [
    "dt = DecisionTreeClassifier()\n",
    "ada_model_origdest = AdaBoostClassifier(base_estimator=dt, n_estimators=200, learning_rate=0.1,random_state=1512)\n",
    "ada_model_fitted = ada_model_origdest.fit(X_train,Y_train)"
   ]
  },
  {
   "cell_type": "code",
   "execution_count": 58,
   "metadata": {},
   "outputs": [
    {
     "name": "stdout",
     "output_type": "stream",
     "text": [
      "AdaBoostClassifier(algorithm='SAMME.R',\n",
      "          base_estimator=DecisionTreeClassifier(class_weight=None, criterion='gini', max_depth=None,\n",
      "            max_features=None, max_leaf_nodes=None,\n",
      "            min_impurity_decrease=0.0, min_impurity_split=None,\n",
      "            min_samples_leaf=1, min_samples_split=2,\n",
      "            min_weight_fraction_leaf=0.0, presort=False, random_state=None,\n",
      "            splitter='best'),\n",
      "          learning_rate=0.1, n_estimators=200, random_state=1512)\n"
     ]
    }
   ],
   "source": [
    "print(ada_model_fitted)"
   ]
  },
  {
   "cell_type": "code",
   "execution_count": 59,
   "metadata": {},
   "outputs": [
    {
     "name": "stdout",
     "output_type": "stream",
     "text": [
      "F1 Score : 100.0%\n",
      "Accuracy Score : 100.0%\n"
     ]
    }
   ],
   "source": [
    "printMetrics(ada_model_fitted, X_train, Y_train)"
   ]
  },
  {
   "cell_type": "code",
   "execution_count": 60,
   "metadata": {},
   "outputs": [
    {
     "name": "stdout",
     "output_type": "stream",
     "text": [
      "F1 Score : 58.919999999999995%\n",
      "Accuracy Score : 83.6%\n"
     ]
    }
   ],
   "source": [
    "printMetrics(ada_model_fitted,X_validate,Y_validate)\n",
    "createSubmissionFile(ada_model_fitted,testData,\"submission_ada_basic.csv\")"
   ]
  },
  {
   "cell_type": "markdown",
   "metadata": {},
   "source": [
    "### Picking Top 20 attributes from Random Forest Importance"
   ]
  },
  {
   "cell_type": "code",
   "execution_count": 61,
   "metadata": {},
   "outputs": [],
   "source": [
    "Rf_top_features = featureImpDf.Feature[0:19]\n",
    "## taking copy of original \n",
    "train_rfimp = X_train.copy()\n",
    "validation_rfimp = X_validate.copy()\n",
    "test_rfImp = testData.copy()\n",
    "\n",
    "\n",
    "## creating new data frames with only top features\n",
    "train_rfimp = train_rfimp[Rf_top_features]\n",
    "validation_rfimp = validation_rfimp[Rf_top_features]\n",
    "test_rfImp = test_rfImp[Rf_top_features]"
   ]
  },
  {
   "cell_type": "code",
   "execution_count": 62,
   "metadata": {},
   "outputs": [
    {
     "name": "stdout",
     "output_type": "stream",
     "text": [
      "**** Decision Tree - Random Forest Important Attributes ****\n",
      "Train Metrics :\n",
      "F1 Score : 70.54%\n",
      "Accuracy Score : 89.34%\n",
      "Validation Metrics :\n",
      "F1 Score : 61.919999999999995%\n",
      "Accuracy Score : 86.4%\n"
     ]
    }
   ],
   "source": [
    "best_dt_tree_imp = best_dt_tree.fit(train_rfimp,Y_train)\n",
    "print (\"**** Decision Tree - Random Forest Important Attributes ****\")\n",
    "print(\"Train Metrics :\")\n",
    "printMetrics(best_dt_tree_imp, train_rfimp, Y_train)\n",
    "print(\"Validation Metrics :\")\n",
    "printMetrics(best_dt_tree_imp, validation_rfimp, Y_validate)\n",
    "createSubmissionFile(best_dt_tree_imp,test_rfImp,\"submission_ada_basic.csv\")"
   ]
  },
  {
   "cell_type": "code",
   "execution_count": 63,
   "metadata": {},
   "outputs": [
    {
     "name": "stdout",
     "output_type": "stream",
     "text": [
      "**** Random Forest - Top 20  Important Attributes ****\n",
      "Train Metrics :\n",
      "F1 Score : 73.56%\n",
      "Accuracy Score : 91.3%\n",
      "Validation Metrics :\n",
      "F1 Score : 63.18%\n",
      "Accuracy Score : 88.37%\n"
     ]
    }
   ],
   "source": [
    "best_rf_fitted_imp = best_rf_fitted.fit(train_rfimp,Y_train)\n",
    "print (\"**** Random Forest - Top 20  Important Attributes ****\")\n",
    "print(\"Train Metrics :\")\n",
    "printMetrics(best_rf_fitted_imp, train_rfimp, Y_train)\n",
    "print(\"Validation Metrics :\")\n",
    "printMetrics(best_rf_fitted_imp, validation_rfimp, Y_validate)\n",
    "createSubmissionFile(best_dt_tree_imp,test_rfImp,\"submission_ada_basic.csv\")"
   ]
  },
  {
   "cell_type": "code",
   "execution_count": 64,
   "metadata": {},
   "outputs": [
    {
     "name": "stdout",
     "output_type": "stream",
     "text": [
      "**** XGB Boost - Random Forest Top 20  Important Attributes ****\n",
      "Train Metrics :\n",
      "F1 Score : 67.2%\n",
      "Accuracy Score : 89.49000000000001%\n",
      "Validation Metrics :\n",
      "F1 Score : 64.81%\n",
      "Accuracy Score : 88.75%\n"
     ]
    }
   ],
   "source": [
    "xgb_cv_fitted_imp = xgb_cv_fitted.fit(train_rfimp,Y_train)\n",
    "print (\"**** XGB Boost - Random Forest Top 20  Important Attributes ****\")\n",
    "print(\"Train Metrics :\")\n",
    "printMetrics(xgb_cv_fitted_imp, train_rfimp, Y_train)\n",
    "print(\"Validation Metrics :\")\n",
    "printMetrics(xgb_cv_fitted_imp, validation_rfimp, Y_validate)\n",
    "createSubmissionFile(xgb_cv_fitted_imp,test_rfImp,\"submission_xgb_toprf20.csv\")"
   ]
  },
  {
   "cell_type": "code",
   "execution_count": 65,
   "metadata": {},
   "outputs": [
    {
     "name": "stdout",
     "output_type": "stream",
     "text": [
      " THRESHOLD :  0.2\n",
      "Train Metrics :\n",
      "F1 Score : 68.24%\n",
      "Accuracy Score : 89.73%\n",
      "Validation Metrics :\n",
      "F1 Score : 63.71%\n",
      "Accuracy Score : 88.56%\n",
      "-------------------------------------------------\n",
      " THRESHOLD :  0.3\n",
      "Train Metrics :\n",
      "F1 Score : 68.24%\n",
      "Accuracy Score : 89.74%\n",
      "Validation Metrics :\n",
      "F1 Score : 63.980000000000004%\n",
      "Accuracy Score : 88.62%\n",
      "-------------------------------------------------\n",
      " THRESHOLD :  0.4\n",
      "Train Metrics :\n",
      "F1 Score : 67.36%\n",
      "Accuracy Score : 89.53999999999999%\n",
      "Validation Metrics :\n",
      "F1 Score : 66.0%\n",
      "Accuracy Score : 89.13%\n",
      "-------------------------------------------------\n",
      " THRESHOLD :  0.5\n",
      "Train Metrics :\n",
      "F1 Score : 67.2%\n",
      "Accuracy Score : 89.49000000000001%\n",
      "Validation Metrics :\n",
      "F1 Score : 64.81%\n",
      "Accuracy Score : 88.75%\n",
      "-------------------------------------------------\n",
      " THRESHOLD :  0.6\n",
      "Train Metrics :\n",
      "F1 Score : 67.25999999999999%\n",
      "Accuracy Score : 89.46%\n",
      "Validation Metrics :\n",
      "F1 Score : 65.07%\n",
      "Accuracy Score : 88.87%\n",
      "-------------------------------------------------\n",
      " THRESHOLD :  0.7\n",
      "Train Metrics :\n",
      "F1 Score : 67.52%\n",
      "Accuracy Score : 89.55%\n",
      "Validation Metrics :\n",
      "F1 Score : 65.34%\n",
      "Accuracy Score : 88.94%\n",
      "-------------------------------------------------\n",
      " THRESHOLD :  0.8\n",
      "Train Metrics :\n",
      "F1 Score : 67.89%\n",
      "Accuracy Score : 89.71000000000001%\n",
      "Validation Metrics :\n",
      "F1 Score : 64.4%\n",
      "Accuracy Score : 88.68%\n",
      "-------------------------------------------------\n",
      " THRESHOLD :  0.9\n",
      "Train Metrics :\n",
      "F1 Score : 67.46%\n",
      "Accuracy Score : 89.58%\n",
      "Validation Metrics :\n",
      "F1 Score : 64.25999999999999%\n",
      "Accuracy Score : 88.68%\n",
      "-------------------------------------------------\n"
     ]
    }
   ],
   "source": [
    "## trying various thresholds \n",
    "thresholds = [0.2,0.3,0.4,0.5,0.6,0.7,0.8,0.9]\n",
    "\n",
    "for value in thresholds:\n",
    "    xgb_model_temp = XGBClassifier(base_score=value, booster='gbtree', colsample_bylevel=1,\n",
    "       colsample_bytree=1, gamma=0, learning_rate=0.1, max_delta_step=0,\n",
    "       max_depth=3, min_child_weight=1, missing=None, n_estimators=100,\n",
    "       n_jobs=-1, nthread=None, objective='binary:logistic',\n",
    "       random_state=0, reg_alpha=0, reg_lambda=1, scale_pos_weight=1,\n",
    "       seed=None, silent=True, subsample=1)\n",
    "    xgb_fitted_tmp = xgb_model_temp.fit(train_rfimp,Y_train)\n",
    "    print( \" THRESHOLD : \",value)\n",
    "    print(\"Train Metrics :\")\n",
    "    printMetrics(xgb_fitted_tmp, train_rfimp, Y_train)\n",
    "    print(\"Validation Metrics :\")\n",
    "    printMetrics(xgb_fitted_tmp, validation_rfimp, Y_validate)\n",
    "    print(\"-------------------------------------------------\")"
   ]
  },
  {
   "cell_type": "code",
   "execution_count": 66,
   "metadata": {},
   "outputs": [
    {
     "name": "stdout",
     "output_type": "stream",
     "text": [
      "Train Metrics :\n",
      "F1 Score : 67.52%\n",
      "Accuracy Score : 89.55%\n",
      "Validation Metrics :\n",
      "F1 Score : 65.34%\n",
      "Accuracy Score : 88.94%\n",
      "-------------------------------------------------\n"
     ]
    }
   ],
   "source": [
    "#Threshold = 0.7 chosen\n",
    "\n",
    "xgb_model_temp = XGBClassifier(base_score=0.7, booster='gbtree', colsample_bylevel=1,\n",
    "       colsample_bytree=1, gamma=0, learning_rate=0.1, max_delta_step=0,\n",
    "       max_depth=3, min_child_weight=1, missing=None, n_estimators=100,\n",
    "       n_jobs=-1, nthread=None, objective='binary:logistic',\n",
    "       random_state=0, reg_alpha=0, reg_lambda=1, scale_pos_weight=1,\n",
    "       seed=None, silent=True, subsample=1)\n",
    "xgb_fitted_tmp = xgb_model_temp.fit(train_rfimp,Y_train)\n",
    "print(\"Train Metrics :\")\n",
    "printMetrics(xgb_fitted_tmp, train_rfimp, Y_train)\n",
    "print(\"Validation Metrics :\")\n",
    "printMetrics(xgb_fitted_tmp, validation_rfimp, Y_validate)\n",
    "print(\"-------------------------------------------------\")"
   ]
  },
  {
   "cell_type": "code",
   "execution_count": 67,
   "metadata": {},
   "outputs": [],
   "source": [
    "createSubmissionFile(xgb_fitted_tmp,test_rfImp,\"submission_xgb_bestThreshold.csv\")"
   ]
  },
  {
   "cell_type": "code",
   "execution_count": 68,
   "metadata": {},
   "outputs": [
    {
     "name": "stdout",
     "output_type": "stream",
     "text": [
      "Train Metrics :\n",
      "F1 Score : 69.26%\n",
      "Accuracy Score : 90.08%\n",
      "Validation Metrics :\n",
      "F1 Score : 65.07%\n",
      "Accuracy Score : 88.87%\n",
      "-------------------------------------------------\n"
     ]
    }
   ],
   "source": [
    "xgb_model_temp = XGBClassifier(base_score=0.7, booster='gbtree', colsample_bylevel=1,\n",
    "       colsample_bytree=1, gamma=0, learning_rate=0.1, max_delta_step=0,\n",
    "       max_depth=3, min_child_weight=1, missing=None, n_estimators=100,\n",
    "       n_jobs=-1, nthread=None, objective='binary:logistic',\n",
    "       random_state=0, reg_alpha=0, reg_lambda=1, scale_pos_weight=1,\n",
    "       seed=None, silent=True, subsample=1)\n",
    "xgb_fitted_tmp = xgb_model_temp.fit(X_train,Y_train)\n",
    "print(\"Train Metrics :\")\n",
    "printMetrics(xgb_fitted_tmp, X_train, Y_train)\n",
    "print(\"Validation Metrics :\")\n",
    "printMetrics(xgb_fitted_tmp, X_validate, Y_validate)\n",
    "print(\"-------------------------------------------------\")"
   ]
  },
  {
   "cell_type": "code",
   "execution_count": 69,
   "metadata": {},
   "outputs": [],
   "source": [
    "createSubmissionFile(xgb_fitted_tmp,testData,\"allvars_xgb_bestThreshold.csv\")"
   ]
  },
  {
   "cell_type": "code",
   "execution_count": null,
   "metadata": {},
   "outputs": [],
   "source": []
  }
 ],
 "metadata": {
  "kernelspec": {
   "display_name": "Python 3",
   "language": "python",
   "name": "python3"
  },
  "language_info": {
   "codemirror_mode": {
    "name": "ipython",
    "version": 3
   },
   "file_extension": ".py",
   "mimetype": "text/x-python",
   "name": "python",
   "nbconvert_exporter": "python",
   "pygments_lexer": "ipython3",
   "version": "3.6.4"
  }
 },
 "nbformat": 4,
 "nbformat_minor": 2
}
